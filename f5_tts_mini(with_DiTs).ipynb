{
  "nbformat": 4,
  "nbformat_minor": 0,
  "metadata": {
    "colab": {
      "provenance": [],
      "authorship_tag": "ABX9TyMXRFx3xzmQFTRQGHSmxg/n",
      "include_colab_link": true
    },
    "kernelspec": {
      "name": "python3",
      "display_name": "Python 3"
    },
    "language_info": {
      "name": "python"
    }
  },
  "cells": [
    {
      "cell_type": "markdown",
      "metadata": {
        "id": "view-in-github",
        "colab_type": "text"
      },
      "source": [
        "<a href=\"https://colab.research.google.com/github/hussainturii/TTS/blob/main/f5_tts_mini(with_DiTs).ipynb\" target=\"_parent\"><img src=\"https://colab.research.google.com/assets/colab-badge.svg\" alt=\"Open In Colab\"/></a>"
      ]
    },
    {
      "cell_type": "markdown",
      "source": [
        "**Mel Spectogram**"
      ],
      "metadata": {
        "id": "tYTEd8Yeffa3"
      }
    },
    {
      "cell_type": "code",
      "execution_count": null,
      "metadata": {
        "id": "vz2eHiXwbILh"
      },
      "outputs": [],
      "source": [
        "import torch\n",
        "import torchaudio\n",
        "import librosa\n",
        "import numpy as np\n",
        "\n",
        "# Mel config (choose these carefully and keep consistent)\n",
        "SR = 22050\n",
        "N_MELS = 80\n",
        "N_FFT = 1024\n",
        "HOP_LENGTH = 256\n",
        "WIN_LENGTH = 1024\n",
        "FMIN = 0\n",
        "FMAX = SR // 2\n",
        "\n",
        "# torchaudio transform (fast, batched)\n",
        "mel_transform = torchaudio.transforms.MelSpectrogram(\n",
        "    sample_rate=SR, n_fft=N_FFT, hop_length=HOP_LENGTH, win_length=WIN_LENGTH,\n",
        "    n_mels=N_MELS, f_min=FMIN, f_max=FMAX, power=1.0  # power=1.0 -> amplitude; torchaudio returns power by default, but we set 1\n",
        ")\n",
        "\n",
        "def wav_to_mel(waveform, sr=SR):\n",
        "    \"\"\"\n",
        "    waveform: numpy array or tensor (samples,) or (1, samples)\n",
        "    returns: mel (n_mels, T) as numpy float32 (linear or amplitude) - we will convert to log when needed\n",
        "    \"\"\"\n",
        "    if isinstance(waveform, np.ndarray):\n",
        "        wav = torch.from_numpy(waveform).float()\n",
        "    else:\n",
        "        wav = waveform.float()\n",
        "    if wav.dim() == 1:\n",
        "        wav = wav.unsqueeze(0)\n",
        "    # Resample if needed (omitted here; ensure input sr == SR)\n",
        "    mel = mel_transform(wav)  # (1, n_mels, T)\n",
        "    mel = mel.squeeze(0).cpu().numpy()\n",
        "    # Convert to dB for many vocoders / normalization if needed:\n",
        "    # mel_db = librosa.power_to_db(mel, ref=np.max)\n",
        "    return mel  # linear-amplitude mel (not log) — record what you used!\n"
      ]
    },
    {
      "cell_type": "code",
      "source": [
        "# Minimal char tokenizer\n",
        "CHARS = list(\"abcdefghijklmnopqrstuvwxyz!'?,. \")\n",
        "VOCAB = {c: i+1 for i,c in enumerate(CHARS)}  # 0 reserved for padding\n",
        "VOCAB[\"<unk>\"] = len(VOCAB)+1\n",
        "PAD = 0\n",
        "\n",
        "def text_to_ids(text):\n",
        "    text = text.lower()\n",
        "    return [VOCAB.get(ch, VOCAB[\"<unk>\"]) for ch in text]\n",
        "\n",
        "# Example\n",
        "print(text_to_ids(\"Hello, world!\"))\n"
      ],
      "metadata": {
        "colab": {
          "base_uri": "https://localhost:8080/"
        },
        "id": "qQOSIMDVbWT1",
        "outputId": "be7247b3-3a6d-4ad9-b5f3-9994cf7cc047"
      },
      "execution_count": null,
      "outputs": [
        {
          "output_type": "stream",
          "name": "stdout",
          "text": [
            "[8, 5, 12, 12, 15, 30, 32, 23, 15, 18, 12, 4, 27]\n"
          ]
        }
      ]
    },
    {
      "cell_type": "markdown",
      "source": [
        "**Transformer**"
      ],
      "metadata": {
        "id": "BcSEILkjf6h-"
      }
    },
    {
      "cell_type": "code",
      "source": [
        "import torch.nn as nn\n",
        "import math\n",
        "\n",
        "class TextEncoder(nn.Module):\n",
        "    def __init__(self, vocab_size, model_dim=256, nhead=4, num_layers=3, max_len=512, dropout=0.1):\n",
        "        super().__init__()\n",
        "        self.model_dim = model_dim\n",
        "        self.embed = nn.Embedding(vocab_size, model_dim, padding_idx=PAD)\n",
        "        self.pos = nn.Parameter(torch.zeros(max_len, model_dim))\n",
        "        nn.init.normal_(self.pos, std=0.02)\n",
        "        encoder_layer = nn.TransformerEncoderLayer(d_model=model_dim, nhead=nhead, dim_feedforward=model_dim*4, dropout=dropout, activation=\"gelu\")\n",
        "        self.encoder = nn.TransformerEncoder(encoder_layer, num_layers=num_layers)\n",
        "    def forward(self, token_ids):\n",
        "        # token_ids: (B, L)\n",
        "        B, L = token_ids.shape\n",
        "        x = self.embed(token_ids) + self.pos[:L].unsqueeze(0)  # (B, L, D)\n",
        "        x = x.permute(1, 0, 2)  # (L, B, D)\n",
        "        out = self.encoder(x)   # (L, B, D)\n",
        "        return out.permute(1, 0, 2)  # (B, L, D)\n"
      ],
      "metadata": {
        "id": "LTO0bSK5bkln"
      },
      "execution_count": null,
      "outputs": []
    },
    {
      "cell_type": "code",
      "source": [
        "import torch.nn.functional as F\n",
        "import torch\n",
        "\n",
        "def get_timestep_embedding(timesteps, dim):\n",
        "    # sinusoidal embedding\n",
        "    timesteps = timesteps.float()\n",
        "    half = dim // 2\n",
        "    freqs = torch.exp(-math.log(10000) * torch.arange(half, device=timesteps.device) / (half - 1))\n",
        "    args = timesteps[:, None] * freqs[None, :]\n",
        "    emb = torch.cat([torch.sin(args), torch.cos(args)], dim=-1)\n",
        "    if dim % 2 == 1:\n",
        "        emb = F.pad(emb, (0,1))\n",
        "    return emb  # (B, dim)\n"
      ],
      "metadata": {
        "id": "JT6TwNXzbtO6"
      },
      "execution_count": null,
      "outputs": []
    },
    {
      "cell_type": "code",
      "source": [
        "import torch.nn as nn\n",
        "import torch\n",
        "\n",
        "class DiffusionTransformer(nn.Module):\n",
        "    def __init__(self, n_mels=80, model_dim=256, nhead=4, num_layers=6, max_frames=1024):\n",
        "        super().__init__()\n",
        "        self.n_mels = n_mels\n",
        "        self.model_dim = model_dim\n",
        "        # frame projection\n",
        "        self.mel_proj = nn.Linear(n_mels, model_dim)\n",
        "        # learned pos for mel frames\n",
        "        self.pos = nn.Parameter(torch.zeros(max_frames, model_dim))\n",
        "        nn.init.normal_(self.pos, std=0.02)\n",
        "        # timestep MLP\n",
        "        self.t_mlp = nn.Sequential(\n",
        "            nn.Linear(model_dim, model_dim),\n",
        "            nn.GELU(),\n",
        "            nn.Linear(model_dim, model_dim),\n",
        "        )\n",
        "        # Decoder layers (mel frames = tgt, memory = text encoder)\n",
        "        dec_layer = nn.TransformerDecoderLayer(d_model=model_dim, nhead=nhead, dim_feedforward=model_dim*4, activation=\"gelu\")\n",
        "        self.decoder = nn.TransformerDecoder(dec_layer, num_layers=num_layers)\n",
        "        # output projection back to mel dims (predict eps)\n",
        "        self.out = nn.Linear(model_dim, n_mels)\n",
        "\n",
        "    def forward(self, x_t, t, text_memory):\n",
        "        \"\"\"\n",
        "        x_t: (B, n_mels, T)\n",
        "        t:   (B,) long tensor (timesteps)\n",
        "        text_memory: (B, L, D)\n",
        "        returns: pred_eps (B, n_mels, T)\n",
        "        \"\"\"\n",
        "        B, n_mels, T = x_t.shape\n",
        "        # permute to (T, B, n_mels)\n",
        "        x = x_t.permute(2, 0, 1)\n",
        "        # project to model dim -> (T, B, D)\n",
        "        x = self.mel_proj(x)\n",
        "        # add pos\n",
        "        pos = self.pos[:T].unsqueeze(1)  # (T,1,D)\n",
        "        x = x + pos\n",
        "        # timestep embedding (B, D) -> expand to (T, B, D)\n",
        "        t_emb = get_timestep_embedding(t, self.model_dim).to(x.device)\n",
        "        t_emb = self.t_mlp(t_emb)  # (B, D)\n",
        "        t_emb = t_emb.unsqueeze(0).expand(T, -1, -1)\n",
        "        x = x + t_emb\n",
        "        # prepare memory: (L, B, D)\n",
        "        memory = text_memory.permute(1,0,2)\n",
        "        # decode: cross-attention with text memory\n",
        "        dec = self.decoder(tgt=x, memory=memory)  # (T, B, D)\n",
        "        out = self.out(dec)  # (T, B, n_mels)\n",
        "        out = out.permute(1, 2, 0)  # (B, n_mels, T)\n",
        "        return out\n"
      ],
      "metadata": {
        "id": "my2y8RPKbxxX"
      },
      "execution_count": null,
      "outputs": []
    },
    {
      "cell_type": "code",
      "source": [
        "class DiffusionSchedule:\n",
        "    def __init__(self, T=200, beta_start=1e-4, beta_end=2e-2, device='cpu'):\n",
        "        self.device = device\n",
        "        self.T = T\n",
        "        self.betas = torch.linspace(beta_start, beta_end, T, device=device)\n",
        "        self.alphas = 1.0 - self.betas\n",
        "        self.alphas_cumprod = torch.cumprod(self.alphas, dim=0)\n",
        "        self.sqrt_alphas_cumprod = torch.sqrt(self.alphas_cumprod)\n",
        "        self.sqrt_one_minus_alphas_cumprod = torch.sqrt(1.0 - self.alphas_cumprod)\n",
        "\n",
        "    def q_sample(self, x0, t, noise=None):\n",
        "        \"\"\"\n",
        "        x0: (B, n_mels, Tframes)\n",
        "        t:  (B,) timesteps\n",
        "        \"\"\"\n",
        "        if noise is None:\n",
        "            noise = torch.randn_like(x0)\n",
        "        a = self.sqrt_alphas_cumprod[t].view(-1,1,1)\n",
        "        b = self.sqrt_one_minus_alphas_cumprod[t].view(-1,1,1)\n",
        "        return a * x0 + b * noise, noise\n"
      ],
      "metadata": {
        "id": "p56HcOGhb5K3"
      },
      "execution_count": null,
      "outputs": []
    },
    {
      "cell_type": "code",
      "source": [
        "from torch.utils.data import Dataset, DataLoader\n",
        "import random\n",
        "import os\n",
        "\n",
        "# Example dataset using TTS audio files + text file (replace with real)\n",
        "class SimpleTTSDataset(Dataset):\n",
        "    def __init__(self, wav_paths, texts, sr=SR, n_mels=N_MELS):\n",
        "        self.wav_paths = wav_paths\n",
        "        self.texts = texts\n",
        "        self.sr = sr\n",
        "\n",
        "    def __len__(self):\n",
        "        return len(self.wav_paths)\n",
        "\n",
        "    def __getitem__(self, idx):\n",
        "        wav, _ = torchaudio.load(self.wav_paths[idx])  # (1, samples)\n",
        "        wav = wav.mean(0) if wav.shape[0] > 1 else wav.squeeze(0)\n",
        "        mel = wav_to_mel(wav.numpy())  # (n_mels, T)\n",
        "        text_ids = torch.tensor(text_to_ids(self.texts[idx]), dtype=torch.long)\n",
        "        mel = torch.from_numpy(mel).float()\n",
        "        return mel, text_ids\n",
        "\n",
        "def collate_fn(batch):\n",
        "    # batch: list of (mel (n_mels, T), text_ids (L,))\n",
        "    # pad mels and texts\n",
        "    mels = [item[0] for item in batch]\n",
        "    texts = [item[1] for item in batch]\n",
        "    max_T = max([m.shape[1] for m in mels])\n",
        "    max_L = max([t.shape[0] for t in texts])\n",
        "    B = len(batch)\n",
        "    mels_p = torch.zeros(B, N_MELS, max_T)\n",
        "    texts_p = torch.zeros(B, max_L, dtype=torch.long)\n",
        "    for i,(m,t) in enumerate(zip(mels,texts)):\n",
        "        mels_p[i, :, :m.shape[1]] = m\n",
        "        texts_p[i, :t.shape[0]] = t\n",
        "    return mels_p, texts_p\n",
        "\n",
        "# Instantiate dataset (you must supply wav_paths + texts)\n",
        "# dataset = SimpleTTSDataset(wav_paths, texts)\n",
        "# loader = DataLoader(dataset, batch_size=8, shuffle=True, collate_fn=collate_fn)\n",
        "\n",
        "# Training loop skeleton (single step demonstration)\n",
        "def train_step(model, text_encoder, schedule, optimizer, batch):\n",
        "    model.train(); text_encoder.train()\n",
        "    mels, texts = batch  # mels: (B, n_mels, T)\n",
        "    B = mels.size(0)\n",
        "    # sample timesteps\n",
        "    t = torch.randint(0, schedule.T, (B,), device=mels.device)\n",
        "    x_t, eps = schedule.q_sample(mels.to(mels.device), t)\n",
        "    # encode text\n",
        "    text_memory = text_encoder(texts.to(mels.device))\n",
        "    pred = model(x_t.to(mels.device), t, text_memory)\n",
        "    loss = torch.nn.functional.mse_loss(pred, eps.to(pred.device))\n",
        "    optimizer.zero_grad()\n",
        "    loss.backward()\n",
        "    optimizer.step()\n",
        "    return loss.item()"
      ],
      "metadata": {
        "id": "aI32tpkucDL_"
      },
      "execution_count": null,
      "outputs": []
    },
    {
      "cell_type": "code",
      "source": [
        "@torch.no_grad()\n",
        "def sample_ddpm(model, text_encoder, schedule, text_ids, mel_frames=120, device='cuda'):\n",
        "    \"\"\"\n",
        "    text_ids: LongTensor (L,) or (1, L)\n",
        "    returns: mel_gen (1, n_mels, mel_frames)\n",
        "    \"\"\"\n",
        "    model.eval(); text_encoder.eval()\n",
        "    if text_ids.dim() == 1:\n",
        "        text_ids = text_ids.unsqueeze(0)\n",
        "    text_ids = text_ids.to(device)\n",
        "    text_memory = text_encoder(text_ids)  # (B, L, D)\n",
        "    B = 1\n",
        "    x = torch.randn(B, model.n_mels, mel_frames, device=device)\n",
        "    for t_int in reversed(range(schedule.T)):\n",
        "        t = torch.full((B,), t_int, device=device, dtype=torch.long)\n",
        "        eps_pred = model(x, t, text_memory)\n",
        "        beta_t = schedule.betas[t_int]\n",
        "        alpha_t = schedule.alphas[t_int]\n",
        "        alpha_cum_t = schedule.alphas_cumprod[t_int]\n",
        "        coef1 = 1.0 / torch.sqrt(alpha_t)\n",
        "        coef2 = beta_t / torch.sqrt(1.0 - alpha_cum_t)\n",
        "        mean = coef1 * (x - coef2 * eps_pred)\n",
        "        if t_int > 0:\n",
        "            noise = torch.randn_like(x)\n",
        "            sigma = torch.sqrt(beta_t)\n",
        "            x = mean + sigma * noise\n",
        "        else:\n",
        "            x = mean\n",
        "    mel_gen = x.clamp(min=0.0)  # clamp depending on your mel scaling\n",
        "    return mel_gen  # (1, n_mels, T)\n"
      ],
      "metadata": {
        "id": "vALFEZEkcJY5"
      },
      "execution_count": null,
      "outputs": []
    },
    {
      "cell_type": "code",
      "source": [
        "# try torchaudio prototype pipeline (may be deprecated but works on many installs)\n",
        "try:\n",
        "    from torchaudio.prototype.pipelines import HIFIGAN_VOCODER_V3_LJSPEECH as hifigan_bundle\n",
        "    vocoder = hifigan_bundle.get_vocoder().to(device)\n",
        "    hifi_sr = hifigan_bundle.sample_rate\n",
        "    print(\"Loaded hifigan bundle, sr:\", hifi_sr)\n",
        "except Exception as e:\n",
        "    print(\"torchaudio hifigan not available:\", e)\n",
        "    vocoder = None\n"
      ],
      "metadata": {
        "colab": {
          "base_uri": "https://localhost:8080/"
        },
        "id": "MuTZ414tgdpe",
        "outputId": "ff7dde54-a792-49cb-b9a2-6a8df3b38d99"
      },
      "execution_count": null,
      "outputs": [
        {
          "output_type": "stream",
          "name": "stdout",
          "text": [
            "Loaded hifigan bundle, sr: 22050\n"
          ]
        },
        {
          "output_type": "stream",
          "name": "stderr",
          "text": [
            "/usr/local/lib/python3.12/dist-packages/torchaudio/prototype/pipelines/_vggish/_vggish_pipeline.py:75: UserWarning: torchaudio.prototype.pipelines._vggish._vggish_pipeline.VGGishBundle has been deprecated. This deprecation is part of a large refactoring effort to transition TorchAudio into a maintenance phase. Please see https://github.com/pytorch/audio/issues/3902 for more information. It will be removed from the 2.9 release. \n",
            "  VGGISH = VGGishBundle(_get_state_dict)\n",
            "/usr/local/lib/python3.12/dist-packages/torchaudio/prototype/pipelines/hifigan_pipeline.py:193: UserWarning: torchaudio.prototype.pipelines.hifigan_pipeline.HiFiGANVocoderBundle has been deprecated. This deprecation is part of a large refactoring effort to transition TorchAudio into a maintenance phase. Please see https://github.com/pytorch/audio/issues/3902 for more information. It will be removed from the 2.9 release. \n",
            "  HIFIGAN_VOCODER_V3_LJSPEECH = HiFiGANVocoderBundle(\n",
            "/tmp/ipython-input-4044070716.py:4: UserWarning: torchaudio.prototype.pipelines.hifigan_pipeline.get_vocoder has been deprecated. This deprecation is part of a large refactoring effort to transition TorchAudio into a maintenance phase. Please see https://github.com/pytorch/audio/issues/3902 for more information. It will be removed from the 2.9 release. \n",
            "  vocoder = hifigan_bundle.get_vocoder().to(device)\n",
            "/usr/local/lib/python3.12/dist-packages/torchaudio/prototype/pipelines/hifigan_pipeline.py:101: UserWarning: torchaudio.prototype.models.hifi_gan.hifigan_vocoder has been deprecated. This deprecation is part of a large refactoring effort to transition TorchAudio into a maintenance phase. Please see https://github.com/pytorch/audio/issues/3902 for more information. It will be removed from the 2.9 release. \n",
            "  model = hifigan_vocoder(**self._vocoder_params)\n",
            "/usr/local/lib/python3.12/dist-packages/torchaudio/prototype/models/hifi_gan.py:276: UserWarning: torchaudio.prototype.models.hifi_gan.HiFiGANVocoder has been deprecated. This deprecation is part of a large refactoring effort to transition TorchAudio into a maintenance phase. Please see https://github.com/pytorch/audio/issues/3902 for more information. It will be removed from the 2.9 release. \n",
            "  return HiFiGANVocoder(\n"
          ]
        }
      ]
    },
    {
      "cell_type": "code",
      "source": [
        "device = \"cuda\" if torch.cuda.is_available() else \"cpu\"\n",
        "vocab_size = len(VOCAB) + 1\n",
        "text_encoder = TextEncoder(vocab_size=vocab_size, model_dim=256).to(device)\n",
        "model = DiffusionTransformer(n_mels=N_MELS, model_dim=256, num_layers=4).to(device)\n",
        "schedule = DiffusionSchedule(T=100, device=device)  # small T for quick loops\n",
        "\n",
        "model = DiffusionTransformer().to(device)\n",
        "optimizer = torch.optim.Adam(model.parameters(), lr=1e-4)\n",
        "loss_fn = torch.nn.MSELoss()  # simple L2 loss for predicted vs target mel\n",
        "\n",
        "# fake batch\n",
        "mel_dummy = torch.randn(2, N_MELS, 120).to(device)\n",
        "text_dummy = torch.randint(1, vocab_size, (2, 20)).to(device)\n",
        "optimizer = torch.optim.Adam(list(model.parameters()) + list(text_encoder.parameters()), lr=1e-4)\n",
        "\n",
        "# one training step (demo)\n",
        "loss = train_step(model, text_encoder, schedule, optimizer, (mel_dummy, text_dummy))\n",
        "print(\"demo loss:\", loss)\n",
        "\n",
        "# sample from random text\n",
        "ids = torch.tensor(text_to_ids(\"hello world\"), dtype=torch.long)\n",
        "mel_gen = sample_ddpm(model, text_encoder, schedule, ids, mel_frames=120, device=device)\n",
        "print(\"generated mel shape:\", mel_gen.shape)\n",
        "# If vocoder available, convert to waveform as above\n"
      ],
      "metadata": {
        "colab": {
          "base_uri": "https://localhost:8080/"
        },
        "id": "MDZjk_cwgh_T",
        "outputId": "6dd3f16e-ab86-4f64-f849-265539190da7"
      },
      "execution_count": null,
      "outputs": [
        {
          "output_type": "stream",
          "name": "stderr",
          "text": [
            "/usr/local/lib/python3.12/dist-packages/torch/nn/modules/transformer.py:392: UserWarning: enable_nested_tensor is True, but self.use_nested_tensor is False because encoder_layer.self_attn.batch_first was not True(use batch_first for better inference performance)\n",
            "  warnings.warn(\n"
          ]
        },
        {
          "output_type": "stream",
          "name": "stdout",
          "text": [
            "demo loss: 1.3710402250289917\n",
            "generated mel shape: torch.Size([1, 80, 120])\n"
          ]
        }
      ]
    },
    {
      "cell_type": "code",
      "source": [
        "import torch\n",
        "import torchaudio\n",
        "from torchaudio.prototype.pipelines import HIFIGAN_VOCODER_V3_LJSPEECH as hifigan_bundle\n",
        "from IPython.display import Audio\n",
        "\n",
        "device = \"cuda\" if torch.cuda.is_available() else \"cpu\"\n",
        "\n",
        "# --- 1. Fake test input ---\n",
        "B, n_mels, T = 1, 80, 120\n",
        "x_t = torch.randn(B, n_mels, T).to(device)\n",
        "timesteps = torch.randint(low=0, high=1000, size=(B,)).to(device)\n",
        "text_memory = torch.randn(B, 30, 256).to(device)   # assuming model_dim=256\n",
        "\n",
        "# --- 2. Run model forward ---\n",
        "model.eval()\n",
        "with torch.no_grad():\n",
        "    mel = model(x_t, timesteps, text_memory)  # (B, n_mels, T)\n",
        "\n",
        "# --- 3. Vocoder ---\n",
        "vocoder = hifigan_bundle.get_vocoder().to(device)\n",
        "with torch.no_grad():\n",
        "    waveform = vocoder(mel)  # (B, 1, T_audio)\n",
        "\n",
        "# --- 4. Play directly ---\n",
        "Audio(waveform.squeeze().cpu().numpy(), rate=hifigan_bundle.sample_rate)"
      ],
      "metadata": {
        "colab": {
          "base_uri": "https://localhost:8080/",
          "height": 199
        },
        "id": "Hb8ONK1Tgt9T",
        "outputId": "ad431192-852b-4ba2-901c-6f5f5bab52ca"
      },
      "execution_count": null,
      "outputs": [
        {
          "output_type": "stream",
          "name": "stderr",
          "text": [
            "/tmp/ipython-input-3395704793.py:20: UserWarning: torchaudio.prototype.pipelines.hifigan_pipeline.get_vocoder has been deprecated. This deprecation is part of a large refactoring effort to transition TorchAudio into a maintenance phase. Please see https://github.com/pytorch/audio/issues/3902 for more information. It will be removed from the 2.9 release. \n",
            "  vocoder = hifigan_bundle.get_vocoder().to(device)\n",
            "/usr/local/lib/python3.12/dist-packages/torchaudio/prototype/pipelines/hifigan_pipeline.py:101: UserWarning: torchaudio.prototype.models.hifi_gan.hifigan_vocoder has been deprecated. This deprecation is part of a large refactoring effort to transition TorchAudio into a maintenance phase. Please see https://github.com/pytorch/audio/issues/3902 for more information. It will be removed from the 2.9 release. \n",
            "  model = hifigan_vocoder(**self._vocoder_params)\n",
            "/usr/local/lib/python3.12/dist-packages/torchaudio/prototype/models/hifi_gan.py:276: UserWarning: torchaudio.prototype.models.hifi_gan.HiFiGANVocoder has been deprecated. This deprecation is part of a large refactoring effort to transition TorchAudio into a maintenance phase. Please see https://github.com/pytorch/audio/issues/3902 for more information. It will be removed from the 2.9 release. \n",
            "  return HiFiGANVocoder(\n"
          ]
        },
        {
          "output_type": "execute_result",
          "data": {
            "text/plain": [
              "<IPython.lib.display.Audio object>"
            ],
            "text/html": [
              "\n",
              "                <audio  controls=\"controls\" >\n",
              "                    <source src=\"data:audio/wav;base64,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\" type=\"audio/wav\" />\n",
              "                    Your browser does not support the audio element.\n",
              "                </audio>\n",
              "              "
            ]
          },
          "metadata": {},
          "execution_count": 21
        }
      ]
    }
  ]
}